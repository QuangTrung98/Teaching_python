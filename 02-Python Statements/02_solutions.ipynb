{
 "cells": [
  {
   "cell_type": "markdown",
   "metadata": {},
   "source": [
    "# Exercises:"
   ]
  },
  {
   "cell_type": "markdown",
   "metadata": {},
   "source": [
    "Exercise 1: Check Negative, Positive, or Zero  \n",
    "Write a program that takes a number from the user and prints a message indicating whether the number is negative, positive, or zero.\n"
   ]
  },
  {
   "cell_type": "code",
   "execution_count": 1,
   "metadata": {},
   "outputs": [
    {
     "name": "stdout",
     "output_type": "stream",
     "text": [
      "Số dương\n"
     ]
    }
   ],
   "source": [
    "number = float(input(\"Nhập một số: \"))\n",
    "if number > 0:\n",
    "    print(\"Số dương\")\n",
    "elif number < 0:\n",
    "    print(\"Số âm\")\n",
    "else:\n",
    "    print(\"Số bằng 0\")\n"
   ]
  },
  {
   "cell_type": "markdown",
   "metadata": {},
   "source": [
    "Exercise 2: Check Even or Odd  \n",
    "Write a program that takes a number from the user and prints a message indicating whether the number is even or odd."
   ]
  },
  {
   "cell_type": "code",
   "execution_count": 2,
   "metadata": {},
   "outputs": [
    {
     "name": "stdout",
     "output_type": "stream",
     "text": [
      "Số chẵn\n"
     ]
    }
   ],
   "source": [
    "number = int(input(\"Nhập một số: \"))\n",
    "if number % 2 == 0:\n",
    "    print(\"Số chẵn\")\n",
    "else:\n",
    "    print(\"Số lẻ\")\n"
   ]
  },
  {
   "cell_type": "markdown",
   "metadata": {},
   "source": [
    "Exercise 3: Determine Academic Achievement  \n",
    "\n",
    "Write a program that takes a grade from the user and prints a message indicating their academic achievement based on the grading scale:  \n",
    "\n",
    "9-10: Excellent  \n",
    "8-8.9: Good  \n",
    "7-7.9: Fair  \n",
    "5-6.9: Average  \n",
    "0-4.9: Weak  "
   ]
  },
  {
   "cell_type": "code",
   "execution_count": 3,
   "metadata": {},
   "outputs": [
    {
     "name": "stdout",
     "output_type": "stream",
     "text": [
      "Weak\n"
     ]
    }
   ],
   "source": [
    "grade = float(input(\"Enter your grade: \"))\n",
    "if 9 <= grade <= 10:\n",
    "    print(\"Excellent\")\n",
    "elif 8 <= grade < 9:\n",
    "    print(\"Good\")\n",
    "elif 7 <= grade < 8:\n",
    "    print(\"Fair\")\n",
    "elif 5 <= grade < 7:\n",
    "    print(\"Average\")\n",
    "else:\n",
    "    print(\"Weak\")\n"
   ]
  },
  {
   "cell_type": "markdown",
   "metadata": {},
   "source": [
    "Exercise 4: Determine BMI Classification  \n",
    "\n",
    "Write a program that takes weight (in kg) and height (in m) from the user, calculates the BMI, and determines the corresponding classification:  \n",
    "\n",
    "BMI < 18.5: Underweight  \n",
    "18.5 <= BMI < 25: Normal weight  \n",
    "25 <= BMI < 30: Overweight  \n",
    "BMI >= 30: Obesity  "
   ]
  },
  {
   "cell_type": "code",
   "execution_count": 4,
   "metadata": {},
   "outputs": [
    {
     "name": "stdout",
     "output_type": "stream",
     "text": [
      "BMI: 5.75\n",
      "Classification: Underweight\n"
     ]
    }
   ],
   "source": [
    "weight = float(input(\"Enter weight (kg): \"))\n",
    "height = float(input(\"Enter height (m): \"))\n",
    "bmi = weight / (height ** 2)\n",
    "\n",
    "if bmi < 18.5:\n",
    "    classification = \"Underweight\"\n",
    "elif 18.5 <= bmi < 25:\n",
    "    classification = \"Normal weight\"\n",
    "elif 25 <= bmi < 30:\n",
    "    classification = \"Overweight\"\n",
    "else:\n",
    "    classification = \"Obesity\"\n",
    "\n",
    "print(\"BMI:\", bmi)\n",
    "print(\"Classification:\", classification)\n"
   ]
  },
  {
   "cell_type": "markdown",
   "metadata": {},
   "source": [
    "Exercise 5: Check Strong Password  \n",
    "\n",
    "Write a program to check the strength of a password based on the following criteria:  \n",
    "\n",
    "At least 8 characters  \n",
    "Contains at least one lowercase letter  \n",
    "Contains at least one uppercase letter  \n",
    "Contains at least one digit  "
   ]
  },
  {
   "cell_type": "code",
   "execution_count": 6,
   "metadata": {},
   "outputs": [
    {
     "name": "stdout",
     "output_type": "stream",
     "text": [
      "Strong password\n"
     ]
    }
   ],
   "source": [
    "password = input(\"Enter a password: \")\n",
    "length_check = len(password) >= 8\n",
    "lower_check = any(char.islower() for char in password)\n",
    "upper_check = any(char.isupper() for char in password)\n",
    "digit_check = any(char.isdigit() for char in password)\n",
    "\n",
    "if length_check and lower_check and upper_check and digit_check:\n",
    "    print(\"Strong password\")\n",
    "else:\n",
    "    print(\"Weak password\")\n"
   ]
  },
  {
   "cell_type": "markdown",
   "metadata": {},
   "source": []
  }
 ],
 "metadata": {
  "kernelspec": {
   "display_name": "Python 3.10.4 64-bit",
   "language": "python",
   "name": "python3"
  },
  "language_info": {
   "codemirror_mode": {
    "name": "ipython",
    "version": 3
   },
   "file_extension": ".py",
   "mimetype": "text/x-python",
   "name": "python",
   "nbconvert_exporter": "python",
   "pygments_lexer": "ipython3",
   "version": "3.10.4"
  },
  "orig_nbformat": 4,
  "vscode": {
   "interpreter": {
    "hash": "a42ccb73e7d9bfdf27e036f1d2b8b681e55fc0743cc5586bc2474d4a60f4b886"
   }
  }
 },
 "nbformat": 4,
 "nbformat_minor": 2
}
